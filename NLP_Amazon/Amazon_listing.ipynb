{
 "cells": [
  {
   "cell_type": "code",
   "execution_count": 1,
   "id": "14873324",
   "metadata": {},
   "outputs": [],
   "source": [
    "import pandas as pd\n",
    "import numpy as np\n",
    "from nltk.tokenize import word_tokenize\n",
    "from nltk import pos_tag\n",
    "from nltk.corpus import stopwords\n",
    "from nltk.stem import WordNetLemmatizer\n",
    "from sklearn.preprocessing import LabelEncoder\n",
    "from collections import defaultdict\n",
    "from nltk.corpus import wordnet as wn\n",
    "from sklearn.feature_extraction.text import TfidfVectorizer\n",
    "from sklearn import model_selection, naive_bayes, svm\n",
    "from sklearn.metrics import accuracy_score"
   ]
  },
  {
   "cell_type": "code",
   "execution_count": 13,
   "id": "b83092f0",
   "metadata": {},
   "outputs": [],
   "source": [
    "df = pd.read_csv(\"Product listing.csv\")"
   ]
  },
  {
   "cell_type": "code",
   "execution_count": 14,
   "id": "a60ea632",
   "metadata": {},
   "outputs": [
    {
     "data": {
      "text/html": [
       "<div>\n",
       "<style scoped>\n",
       "    .dataframe tbody tr th:only-of-type {\n",
       "        vertical-align: middle;\n",
       "    }\n",
       "\n",
       "    .dataframe tbody tr th {\n",
       "        vertical-align: top;\n",
       "    }\n",
       "\n",
       "    .dataframe thead th {\n",
       "        text-align: right;\n",
       "    }\n",
       "</style>\n",
       "<table border=\"1\" class=\"dataframe\">\n",
       "  <thead>\n",
       "    <tr style=\"text-align: right;\">\n",
       "      <th></th>\n",
       "      <th>Unnamed: 0</th>\n",
       "      <th>company</th>\n",
       "      <th>product</th>\n",
       "    </tr>\n",
       "  </thead>\n",
       "  <tbody>\n",
       "    <tr>\n",
       "      <th>0</th>\n",
       "      <td>1</td>\n",
       "      <td>HP</td>\n",
       "      <td>HP 15 Ryzen 5 4500U Processor 15.6-inch(39.6 c...</td>\n",
       "    </tr>\n",
       "    <tr>\n",
       "      <th>1</th>\n",
       "      <td>1</td>\n",
       "      <td>HP</td>\n",
       "      <td>HP 15 Ryzen 3 Thin &amp; Light 15.6-inch (39.6 cms...</td>\n",
       "    </tr>\n",
       "    <tr>\n",
       "      <th>2</th>\n",
       "      <td>1</td>\n",
       "      <td>Dell</td>\n",
       "      <td>Dell Inspiron 3502 15.6\" (39.62 cms) HD Displa...</td>\n",
       "    </tr>\n",
       "    <tr>\n",
       "      <th>3</th>\n",
       "      <td>1</td>\n",
       "      <td>ASUS</td>\n",
       "      <td>ASUS VivoBook 15 (2020), 39.6 cm HD, Dual Core...</td>\n",
       "    </tr>\n",
       "    <tr>\n",
       "      <th>4</th>\n",
       "      <td>1</td>\n",
       "      <td>ASUS</td>\n",
       "      <td>ASUS VivoBook 14 (2021) 14.0-inch (35.56 cms) ...</td>\n",
       "    </tr>\n",
       "    <tr>\n",
       "      <th>...</th>\n",
       "      <td>...</td>\n",
       "      <td>...</td>\n",
       "      <td>...</td>\n",
       "    </tr>\n",
       "    <tr>\n",
       "      <th>3149</th>\n",
       "      <td>10</td>\n",
       "      <td>Oboe</td>\n",
       "      <td>Oboe Silicon Soft Cover Case for Redmi Power B...</td>\n",
       "    </tr>\n",
       "    <tr>\n",
       "      <th>3150</th>\n",
       "      <td>10</td>\n",
       "      <td>ERD</td>\n",
       "      <td>ERD PB-10KC Li-Polymer Power Bank | 10000mAh S...</td>\n",
       "    </tr>\n",
       "    <tr>\n",
       "      <th>3151</th>\n",
       "      <td>10</td>\n",
       "      <td>ERH India</td>\n",
       "      <td>ERH India DC Power Bank Charger Board Charging...</td>\n",
       "    </tr>\n",
       "    <tr>\n",
       "      <th>3152</th>\n",
       "      <td>10</td>\n",
       "      <td>Leonardi</td>\n",
       "      <td>Leonardi Power Bank with Nano Spray Face Mist ...</td>\n",
       "    </tr>\n",
       "    <tr>\n",
       "      <th>3153</th>\n",
       "      <td>10</td>\n",
       "      <td>GIZMORE</td>\n",
       "      <td>GIZMORE GIZPD10KP, 10000mAh Power Bank with 18...</td>\n",
       "    </tr>\n",
       "  </tbody>\n",
       "</table>\n",
       "<p>3154 rows × 3 columns</p>\n",
       "</div>"
      ],
      "text/plain": [
       "      Unnamed: 0    company                                            product\n",
       "0              1         HP  HP 15 Ryzen 5 4500U Processor 15.6-inch(39.6 c...\n",
       "1              1         HP  HP 15 Ryzen 3 Thin & Light 15.6-inch (39.6 cms...\n",
       "2              1       Dell  Dell Inspiron 3502 15.6\" (39.62 cms) HD Displa...\n",
       "3              1       ASUS  ASUS VivoBook 15 (2020), 39.6 cm HD, Dual Core...\n",
       "4              1       ASUS  ASUS VivoBook 14 (2021) 14.0-inch (35.56 cms) ...\n",
       "...          ...        ...                                                ...\n",
       "3149          10       Oboe  Oboe Silicon Soft Cover Case for Redmi Power B...\n",
       "3150          10        ERD  ERD PB-10KC Li-Polymer Power Bank | 10000mAh S...\n",
       "3151          10  ERH India  ERH India DC Power Bank Charger Board Charging...\n",
       "3152          10   Leonardi  Leonardi Power Bank with Nano Spray Face Mist ...\n",
       "3153          10    GIZMORE  GIZMORE GIZPD10KP, 10000mAh Power Bank with 18...\n",
       "\n",
       "[3154 rows x 3 columns]"
      ]
     },
     "execution_count": 14,
     "metadata": {},
     "output_type": "execute_result"
    }
   ],
   "source": [
    "df"
   ]
  },
  {
   "cell_type": "code",
   "execution_count": 15,
   "id": "bb126771",
   "metadata": {},
   "outputs": [],
   "source": [
    "df.rename( columns={'Unnamed: 0':'category', 'company': 'company', 'product':'product'}, inplace=True )"
   ]
  },
  {
   "cell_type": "code",
   "execution_count": 16,
   "id": "95b51a34",
   "metadata": {},
   "outputs": [
    {
     "data": {
      "text/html": [
       "<div>\n",
       "<style scoped>\n",
       "    .dataframe tbody tr th:only-of-type {\n",
       "        vertical-align: middle;\n",
       "    }\n",
       "\n",
       "    .dataframe tbody tr th {\n",
       "        vertical-align: top;\n",
       "    }\n",
       "\n",
       "    .dataframe thead th {\n",
       "        text-align: right;\n",
       "    }\n",
       "</style>\n",
       "<table border=\"1\" class=\"dataframe\">\n",
       "  <thead>\n",
       "    <tr style=\"text-align: right;\">\n",
       "      <th></th>\n",
       "      <th>category</th>\n",
       "      <th>company</th>\n",
       "      <th>product</th>\n",
       "    </tr>\n",
       "  </thead>\n",
       "  <tbody>\n",
       "    <tr>\n",
       "      <th>0</th>\n",
       "      <td>1</td>\n",
       "      <td>HP</td>\n",
       "      <td>HP 15 Ryzen 5 4500U Processor 15.6-inch(39.6 c...</td>\n",
       "    </tr>\n",
       "    <tr>\n",
       "      <th>1</th>\n",
       "      <td>1</td>\n",
       "      <td>HP</td>\n",
       "      <td>HP 15 Ryzen 3 Thin &amp; Light 15.6-inch (39.6 cms...</td>\n",
       "    </tr>\n",
       "    <tr>\n",
       "      <th>2</th>\n",
       "      <td>1</td>\n",
       "      <td>Dell</td>\n",
       "      <td>Dell Inspiron 3502 15.6\" (39.62 cms) HD Displa...</td>\n",
       "    </tr>\n",
       "    <tr>\n",
       "      <th>3</th>\n",
       "      <td>1</td>\n",
       "      <td>ASUS</td>\n",
       "      <td>ASUS VivoBook 15 (2020), 39.6 cm HD, Dual Core...</td>\n",
       "    </tr>\n",
       "    <tr>\n",
       "      <th>4</th>\n",
       "      <td>1</td>\n",
       "      <td>ASUS</td>\n",
       "      <td>ASUS VivoBook 14 (2021) 14.0-inch (35.56 cms) ...</td>\n",
       "    </tr>\n",
       "    <tr>\n",
       "      <th>...</th>\n",
       "      <td>...</td>\n",
       "      <td>...</td>\n",
       "      <td>...</td>\n",
       "    </tr>\n",
       "    <tr>\n",
       "      <th>3149</th>\n",
       "      <td>10</td>\n",
       "      <td>Oboe</td>\n",
       "      <td>Oboe Silicon Soft Cover Case for Redmi Power B...</td>\n",
       "    </tr>\n",
       "    <tr>\n",
       "      <th>3150</th>\n",
       "      <td>10</td>\n",
       "      <td>ERD</td>\n",
       "      <td>ERD PB-10KC Li-Polymer Power Bank | 10000mAh S...</td>\n",
       "    </tr>\n",
       "    <tr>\n",
       "      <th>3151</th>\n",
       "      <td>10</td>\n",
       "      <td>ERH India</td>\n",
       "      <td>ERH India DC Power Bank Charger Board Charging...</td>\n",
       "    </tr>\n",
       "    <tr>\n",
       "      <th>3152</th>\n",
       "      <td>10</td>\n",
       "      <td>Leonardi</td>\n",
       "      <td>Leonardi Power Bank with Nano Spray Face Mist ...</td>\n",
       "    </tr>\n",
       "    <tr>\n",
       "      <th>3153</th>\n",
       "      <td>10</td>\n",
       "      <td>GIZMORE</td>\n",
       "      <td>GIZMORE GIZPD10KP, 10000mAh Power Bank with 18...</td>\n",
       "    </tr>\n",
       "  </tbody>\n",
       "</table>\n",
       "<p>3154 rows × 3 columns</p>\n",
       "</div>"
      ],
      "text/plain": [
       "      category    company                                            product\n",
       "0            1         HP  HP 15 Ryzen 5 4500U Processor 15.6-inch(39.6 c...\n",
       "1            1         HP  HP 15 Ryzen 3 Thin & Light 15.6-inch (39.6 cms...\n",
       "2            1       Dell  Dell Inspiron 3502 15.6\" (39.62 cms) HD Displa...\n",
       "3            1       ASUS  ASUS VivoBook 15 (2020), 39.6 cm HD, Dual Core...\n",
       "4            1       ASUS  ASUS VivoBook 14 (2021) 14.0-inch (35.56 cms) ...\n",
       "...        ...        ...                                                ...\n",
       "3149        10       Oboe  Oboe Silicon Soft Cover Case for Redmi Power B...\n",
       "3150        10        ERD  ERD PB-10KC Li-Polymer Power Bank | 10000mAh S...\n",
       "3151        10  ERH India  ERH India DC Power Bank Charger Board Charging...\n",
       "3152        10   Leonardi  Leonardi Power Bank with Nano Spray Face Mist ...\n",
       "3153        10    GIZMORE  GIZMORE GIZPD10KP, 10000mAh Power Bank with 18...\n",
       "\n",
       "[3154 rows x 3 columns]"
      ]
     },
     "execution_count": 16,
     "metadata": {},
     "output_type": "execute_result"
    }
   ],
   "source": [
    "df"
   ]
  },
  {
   "cell_type": "code",
   "execution_count": 17,
   "id": "f47cc9af",
   "metadata": {},
   "outputs": [],
   "source": [
    "df['product'].dropna(inplace = True) "
   ]
  },
  {
   "cell_type": "code",
   "execution_count": 18,
   "id": "15b203f5",
   "metadata": {},
   "outputs": [],
   "source": [
    "df['product'] = [entry.lower() for entry in df['product']]"
   ]
  },
  {
   "cell_type": "code",
   "execution_count": 21,
   "id": "35893f95",
   "metadata": {},
   "outputs": [],
   "source": [
    "df['product'] = [word_tokenize(element) for element in df['product']]"
   ]
  },
  {
   "cell_type": "code",
   "execution_count": 22,
   "id": "69ffec4e",
   "metadata": {},
   "outputs": [
    {
     "name": "stderr",
     "output_type": "stream",
     "text": [
      "[nltk_data] Downloading package punkt to\n",
      "[nltk_data]     /Users/mohammedrizwan/nltk_data...\n",
      "[nltk_data]   Package punkt is already up-to-date!\n",
      "[nltk_data] Downloading package averaged_perceptron_tagger to\n",
      "[nltk_data]     /Users/mohammedrizwan/nltk_data...\n",
      "[nltk_data]   Package averaged_perceptron_tagger is already up-to-\n",
      "[nltk_data]       date!\n"
     ]
    },
    {
     "data": {
      "text/plain": [
       "True"
      ]
     },
     "execution_count": 22,
     "metadata": {},
     "output_type": "execute_result"
    }
   ],
   "source": [
    "import nltk\n",
    "nltk.download('punkt')\n",
    "nltk.download('averaged_perceptron_tagger')"
   ]
  },
  {
   "cell_type": "code",
   "execution_count": 23,
   "id": "3c2df248",
   "metadata": {},
   "outputs": [],
   "source": [
    "tag_map = defaultdict(lambda : wn.NOUN)\n",
    "tag_map['J'] = wn.ADJ\n",
    "tag_map['V'] = wn.VERB\n",
    "tag_map['R'] = wn.ADV"
   ]
  },
  {
   "cell_type": "code",
   "execution_count": 24,
   "id": "c8e4a393",
   "metadata": {},
   "outputs": [
    {
     "data": {
      "text/plain": [
       "defaultdict(<function __main__.<lambda>()>, {'J': 'a', 'V': 'v', 'R': 'r'})"
      ]
     },
     "execution_count": 24,
     "metadata": {},
     "output_type": "execute_result"
    }
   ],
   "source": [
    "tag_map"
   ]
  },
  {
   "cell_type": "code",
   "execution_count": 25,
   "id": "43fcb0f5",
   "metadata": {},
   "outputs": [],
   "source": [
    "for index,entry in enumerate(df['product']):\n",
    "    Final_words = []\n",
    "    word_Lemmatized = WordNetLemmatizer()\n",
    "    for word, tag in pos_tag(entry):\n",
    "        if word not in stopwords.words('english') and word.isalpha():\n",
    "            word_Final = word_Lemmatized.lemmatize(word,tag_map[tag[0]])\n",
    "            Final_words.append(word_Final)\n",
    "    df.loc[index,'text_final'] = str(Final_words)"
   ]
  },
  {
   "cell_type": "code",
   "execution_count": 27,
   "id": "52983313",
   "metadata": {},
   "outputs": [],
   "source": [
    "Train_X, Test_X, Train_Y, Test_Y = model_selection.train_test_split(df['text_final'],df['company'],test_size=0.3)"
   ]
  },
  {
   "cell_type": "code",
   "execution_count": 29,
   "id": "db675a8e",
   "metadata": {},
   "outputs": [
    {
     "data": {
      "text/plain": [
       "2815        Panasonic\n",
       "1428              INF\n",
       "1391            Dorca\n",
       "2962           Gionee\n",
       "5                Dell\n",
       "            ...      \n",
       "1124             Dell\n",
       "87                 HP\n",
       "1989              OTG\n",
       "2366    G S GOLDSTEIN\n",
       "3083       Portronics\n",
       "Name: company, Length: 947, dtype: object"
      ]
     },
     "execution_count": 29,
     "metadata": {},
     "output_type": "execute_result"
    }
   ],
   "source": [
    "# Train_X\n",
    "Test_Y"
   ]
  },
  {
   "cell_type": "code",
   "execution_count": 30,
   "id": "fcc223f0",
   "metadata": {},
   "outputs": [],
   "source": [
    "Encoder = LabelEncoder()\n",
    "Train_Y = Encoder.fit_transform(Train_Y)\n",
    "Test_Y = Encoder.fit_transform(Test_Y)"
   ]
  },
  {
   "cell_type": "code",
   "execution_count": 31,
   "id": "2c163b48",
   "metadata": {},
   "outputs": [
    {
     "data": {
      "text/plain": [
       "array([302,  82, 134, ...,  82, 284, 320])"
      ]
     },
     "execution_count": 31,
     "metadata": {},
     "output_type": "execute_result"
    }
   ],
   "source": [
    "Train_Y"
   ]
  },
  {
   "cell_type": "code",
   "execution_count": null,
   "id": "0d24d7ee",
   "metadata": {},
   "outputs": [],
   "source": [
    "le_name_mapping = dict(zip(Encoder.classes_, Encoder.transform(Encoder.classes_)))"
   ]
  },
  {
   "cell_type": "code",
   "execution_count": null,
   "id": "f2484f60",
   "metadata": {},
   "outputs": [],
   "source": []
  },
  {
   "cell_type": "code",
   "execution_count": null,
   "id": "dd96137e",
   "metadata": {},
   "outputs": [],
   "source": []
  },
  {
   "cell_type": "code",
   "execution_count": null,
   "id": "4162650f",
   "metadata": {},
   "outputs": [],
   "source": []
  },
  {
   "cell_type": "code",
   "execution_count": null,
   "id": "f7c88b85",
   "metadata": {},
   "outputs": [],
   "source": []
  },
  {
   "cell_type": "code",
   "execution_count": null,
   "id": "b1b56f7c",
   "metadata": {},
   "outputs": [],
   "source": []
  },
  {
   "cell_type": "code",
   "execution_count": null,
   "id": "45f5202d",
   "metadata": {},
   "outputs": [],
   "source": []
  },
  {
   "cell_type": "code",
   "execution_count": null,
   "id": "69d9a3a7",
   "metadata": {},
   "outputs": [],
   "source": []
  }
 ],
 "metadata": {
  "kernelspec": {
   "display_name": "Python 3",
   "language": "python",
   "name": "python3"
  },
  "language_info": {
   "codemirror_mode": {
    "name": "ipython",
    "version": 3
   },
   "file_extension": ".py",
   "mimetype": "text/x-python",
   "name": "python",
   "nbconvert_exporter": "python",
   "pygments_lexer": "ipython3",
   "version": "3.7.9"
  }
 },
 "nbformat": 4,
 "nbformat_minor": 5
}
