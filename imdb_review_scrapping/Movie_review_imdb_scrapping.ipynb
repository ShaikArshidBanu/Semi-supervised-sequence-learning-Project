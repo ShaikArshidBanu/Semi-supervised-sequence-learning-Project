{
 "cells": [
  {
   "cell_type": "code",
   "execution_count": 1,
   "metadata": {},
   "outputs": [],
   "source": [
    "import requests\n",
    "from bs4 import BeautifulSoup\n",
    "#importing beautiful soap for scrapping the data"
   ]
  },
  {
   "cell_type": "markdown",
   "metadata": {},
   "source": [
    "## Dependencies\n",
    "\n",
    "`BBeautifulSoup` :    pip install BeautifulSoup\n",
    "\n",
    "`Google colab` :    pip install google-colab   or conda install -c conda-forge google-colab"
   ]
  },
  {
   "cell_type": "code",
   "execution_count": 2,
   "metadata": {},
   "outputs": [],
   "source": [
    "\n",
    "import pandas as pd\n",
    "import numpy as np\n",
    "import itertools #to create efficent looping to fetch more data in a go\n",
    "import re \n",
    "import random "
   ]
  },
  {
   "cell_type": "markdown",
   "metadata": {},
   "source": [
    "### Creating BS4 Functions for scrapping"
   ]
  },
  {
   "cell_type": "code",
   "execution_count": 3,
   "metadata": {},
   "outputs": [],
   "source": [
    "url = \"https://www.imdb.com/search/title/?title_type=feature&release_date=2020-01-01,2021-12-31&num_votes=20000,&count=20\"\n",
    "\n",
    "#Fetching only 20 movie listing as the processing time is great. once we are good with code we can change the above filter.\n",
    "def getSoup(url):\n",
    "    \"\"\"\n",
    "    Utility function this get soup function will fetch the above url which stored in url var.\n",
    "    \"\"\"\n",
    "    response = requests.get(url)\n",
    "    soup = BeautifulSoup(response.text, 'html.parser')\n",
    "    return soup\n",
    "\n",
    "def getReviews(soup):\n",
    "    '''Function returns all reviews including postive and negative..'''\n",
    "    \n",
    "    # get a list of user ratings\n",
    "    user_review_ratings = [tag.previous_element for tag in \n",
    "                           soup.find_all('span', attrs={'class': 'point-scale'})]        #can search div by inspect elementor\n",
    "    \n",
    "    \n",
    "    # get the review tags\n",
    "    user_review_list = soup.find_all('a', attrs={'class':'title'})\n",
    "    ans = []\n",
    "    for i in range(5):\n",
    "        ans.append(user_review_list[random.randint(0, len(user_review_list) -1)])\n",
    "    links = [\"https://www.imdb.com\" + tag['href'] for tag in ans]\n",
    "    return links\n",
    "\n",
    "\n",
    "\n",
    "\n",
    "def getReviewText(review_url):\n",
    "    '''Returns the user review text given the review url.'''\n",
    "    # get the review_url's soup\n",
    "    soup = getSoup(review_url)\n",
    "    # find div tags with class text show-more__control\n",
    "    tag = soup.find('div', attrs={'class': 'text show-more__control'})\n",
    "    return tag.getText()\n",
    "\n",
    "def getMovieTitle(review_url):\n",
    "    '''Returns the movie title from the review url.'''\n",
    "    # get the review_url's soup\n",
    "    soup = getSoup(review_url)\n",
    "    # find h1 tag\n",
    "    tag = soup.find('h1')\n",
    "    return list(tag.children)[1].getText()\n",
    "\n",
    "def getNounChunks(user_review):\n",
    "    # create the doc object\n",
    "    doc = nlp(user_review)\n",
    "    # get a list of noun_chunks\n",
    "    noun_chunks = list(doc.noun_chunks)\n",
    "    # convert noun_chunks from span objects to strings, otherwise it won't pickle\n",
    "    noun_chunks_strlist = [chunk.text for chunk in noun_chunks]\n",
    "    return noun_chunks_strlist\n",
    "movies_soup = getSoup(url)"
   ]
  },
  {
   "cell_type": "code",
   "execution_count": 4,
   "metadata": {},
   "outputs": [
    {
     "name": "stdout",
     "output_type": "stream",
     "text": [
      "There are a total of 20 movie titles\n",
      "Displaying 10 titles\n"
     ]
    },
    {
     "data": {
      "text/plain": [
       "['/title/tt2382320/',\n",
       " '/title/tt9421570/',\n",
       " '/title/tt8110232/',\n",
       " '/title/tt7097896/',\n",
       " '/title/tt1160419/',\n",
       " '/title/tt6264654/',\n",
       " '/title/tt3480822/',\n",
       " '/title/tt9376612/',\n",
       " '/title/tt3811906/',\n",
       " '/title/tt10954652/']"
      ]
     },
     "execution_count": 4,
     "metadata": {},
     "output_type": "execute_result"
    }
   ],
   "source": [
    "movie_tags = movies_soup.find_all('a', attrs={'class': None})\n",
    "\n",
    "# filter the a-tags to get just the titles\n",
    "movie_tags = [tag.attrs['href'] for tag in movie_tags \n",
    "              if tag.attrs['href'].startswith('/title') & tag.attrs['href'].endswith('/')]\n",
    "\n",
    "# remove duplicate links\n",
    "movie_tags = list(dict.fromkeys(movie_tags))\n",
    "\n",
    "print(\"There are a total of \" + str(len(movie_tags)) + \" movie titles\")\n",
    "print(\"Displaying 10 titles\")\n",
    "movie_tags[:10]"
   ]
  },
  {
   "cell_type": "code",
   "execution_count": 7,
   "metadata": {},
   "outputs": [
    {
     "name": "stdout",
     "output_type": "stream",
     "text": [
      "There are a total of 20 movie user reviews\n",
      "Displaying 20 user reviews links\n"
     ]
    },
    {
     "data": {
      "text/plain": [
       "['https://www.imdb.com/title/tt2382320/reviews',\n",
       " 'https://www.imdb.com/title/tt9421570/reviews',\n",
       " 'https://www.imdb.com/title/tt8110232/reviews',\n",
       " 'https://www.imdb.com/title/tt7097896/reviews',\n",
       " 'https://www.imdb.com/title/tt1160419/reviews',\n",
       " 'https://www.imdb.com/title/tt6264654/reviews',\n",
       " 'https://www.imdb.com/title/tt3480822/reviews',\n",
       " 'https://www.imdb.com/title/tt9376612/reviews',\n",
       " 'https://www.imdb.com/title/tt3811906/reviews',\n",
       " 'https://www.imdb.com/title/tt10954652/reviews',\n",
       " 'https://www.imdb.com/title/tt6334354/reviews',\n",
       " 'https://www.imdb.com/title/tt3228774/reviews',\n",
       " 'https://www.imdb.com/title/tt6654210/reviews',\n",
       " 'https://www.imdb.com/title/tt9243804/reviews',\n",
       " 'https://www.imdb.com/title/tt9620292/reviews',\n",
       " 'https://www.imdb.com/title/tt9347730/reviews',\n",
       " 'https://www.imdb.com/title/tt7737528/reviews',\n",
       " 'https://www.imdb.com/title/tt5433138/reviews',\n",
       " 'https://www.imdb.com/title/tt10886166/reviews',\n",
       " 'https://www.imdb.com/title/tt10309902/reviews']"
      ]
     },
     "execution_count": 7,
     "metadata": {},
     "output_type": "execute_result"
    }
   ],
   "source": [
    "base_url = \"https://www.imdb.com\"\n",
    "movie_links = [base_url + tag + 'reviews' for tag in movie_tags]\n",
    "print(\"There are a total of \" + str(len(movie_links)) + \" movie user reviews\")\n",
    "print(\"Displaying 20 user reviews links\")\n",
    "movie_links[:20]"
   ]
  },
  {
   "cell_type": "code",
   "execution_count": 8,
   "metadata": {},
   "outputs": [],
   "source": [
    "movie_soups = [getSoup(link) for link in movie_links]\n",
    "\n",
    "# get all 500 movie review links\n",
    "movie_review_list = [getReviews(movie_soup) for movie_soup in movie_soups]\n",
    "\n",
    "#movie_review_list = list(itertools.chain(*movie_review_list))\n",
    "#print(len(movie_review_list))\n",
    "\n",
    "#print(\"There are a total of \" + str(len(movie_review_list)) + \" individual movie reviews\")\n",
    "#print(\"Displaying 10 reviews\")\n",
    "#movie_review_list[:10]"
   ]
  },
  {
   "cell_type": "code",
   "execution_count": 9,
   "metadata": {},
   "outputs": [
    {
     "name": "stdout",
     "output_type": "stream",
     "text": [
      "100\n",
      "There are a total of 100 individual movie reviews\n",
      "Displaying 10 reviews\n"
     ]
    },
    {
     "data": {
      "text/plain": [
       "['https://www.imdb.com/review/rw7396238/',\n",
       " 'https://www.imdb.com/review/rw7437543/',\n",
       " 'https://www.imdb.com/review/rw7423129/',\n",
       " 'https://www.imdb.com/review/rw7399244/',\n",
       " 'https://www.imdb.com/review/rw7398815/',\n",
       " 'https://www.imdb.com/review/rw7350535/',\n",
       " 'https://www.imdb.com/review/rw7421743/',\n",
       " 'https://www.imdb.com/review/rw7393947/',\n",
       " 'https://www.imdb.com/review/rw7425183/',\n",
       " 'https://www.imdb.com/review/rw7441337/']"
      ]
     },
     "execution_count": 9,
     "metadata": {},
     "output_type": "execute_result"
    }
   ],
   "source": [
    "\n",
    "movie_review_list = list(itertools.chain(*movie_review_list))\n",
    "print(len(movie_review_list))\n",
    "\n",
    "print(\"There are a total of \" + str(len(movie_review_list)) + \" individual movie reviews\")\n",
    "print(\"Displaying 10 reviews\")\n",
    "movie_review_list[:10]"
   ]
  },
  {
   "cell_type": "code",
   "execution_count": 12,
   "metadata": {},
   "outputs": [],
   "source": [
    "review_texts = [getReviewText(url) for url in movie_review_list]\n",
    "\n",
    "# get movie name from the review link\n",
    "movie_titles = [getMovieTitle(url) for url in movie_review_list]\n",
    "\n",
    "# label each review with negative or positive\n",
    "\n",
    "# construct a dataframe\n",
    "df = pd.DataFrame({\n",
    "             'user_review': review_texts })"
   ]
  },
  {
   "cell_type": "code",
   "execution_count": 13,
   "metadata": {},
   "outputs": [
    {
     "data": {
      "text/html": [
       "<div>\n",
       "<style scoped>\n",
       "    .dataframe tbody tr th:only-of-type {\n",
       "        vertical-align: middle;\n",
       "    }\n",
       "\n",
       "    .dataframe tbody tr th {\n",
       "        vertical-align: top;\n",
       "    }\n",
       "\n",
       "    .dataframe thead th {\n",
       "        text-align: right;\n",
       "    }\n",
       "</style>\n",
       "<table border=\"1\" class=\"dataframe\">\n",
       "  <thead>\n",
       "    <tr style=\"text-align: right;\">\n",
       "      <th></th>\n",
       "      <th>user_review</th>\n",
       "    </tr>\n",
       "  </thead>\n",
       "  <tbody>\n",
       "    <tr>\n",
       "      <th>0</th>\n",
       "      <td>The story is really engaging. It didn't feel l...</td>\n",
       "    </tr>\n",
       "    <tr>\n",
       "      <th>1</th>\n",
       "      <td>It is clear right from the beginning that \"No ...</td>\n",
       "    </tr>\n",
       "    <tr>\n",
       "      <th>2</th>\n",
       "      <td>NO TIME TO DIE (2021) ***1/2 Daniel Craig, Lea...</td>\n",
       "    </tr>\n",
       "    <tr>\n",
       "      <th>3</th>\n",
       "      <td>The first 20-25 minutes are superb (from the m...</td>\n",
       "    </tr>\n",
       "    <tr>\n",
       "      <th>4</th>\n",
       "      <td>It felt as though we were never going to get t...</td>\n",
       "    </tr>\n",
       "    <tr>\n",
       "      <th>5</th>\n",
       "      <td>Director Antoine Fuqua also did his best with ...</td>\n",
       "    </tr>\n",
       "    <tr>\n",
       "      <th>6</th>\n",
       "      <td>\"The Guilty\" is a remake of a Danish film of t...</td>\n",
       "    </tr>\n",
       "    <tr>\n",
       "      <th>7</th>\n",
       "      <td>Greetings again from the darkness. Let's start...</td>\n",
       "    </tr>\n",
       "    <tr>\n",
       "      <th>8</th>\n",
       "      <td>My first thoughts after watching The Guilty is...</td>\n",
       "    </tr>\n",
       "    <tr>\n",
       "      <th>9</th>\n",
       "      <td>30 minutes in and you realize that you do not ...</td>\n",
       "    </tr>\n",
       "    <tr>\n",
       "      <th>10</th>\n",
       "      <td>I have been watching gangster movies for over ...</td>\n",
       "    </tr>\n",
       "    <tr>\n",
       "      <th>11</th>\n",
       "      <td>THE MANY SAINTS OF NEWARK (2021) *** Alessandr...</td>\n",
       "    </tr>\n",
       "    <tr>\n",
       "      <th>12</th>\n",
       "      <td>The main question that first arises when attem...</td>\n",
       "    </tr>\n",
       "    <tr>\n",
       "      <th>13</th>\n",
       "      <td>Remember when \"The Sopranos\" took the televisi...</td>\n",
       "    </tr>\n",
       "    <tr>\n",
       "      <th>14</th>\n",
       "      <td>The film follows the Sopranos starting in the ...</td>\n",
       "    </tr>\n",
       "    <tr>\n",
       "      <th>15</th>\n",
       "      <td>Eddie Brock gets a chance to interview Cletes ...</td>\n",
       "    </tr>\n",
       "    <tr>\n",
       "      <th>16</th>\n",
       "      <td>Venom: Let there be Carnage (2021) is a movie ...</td>\n",
       "    </tr>\n",
       "    <tr>\n",
       "      <th>17</th>\n",
       "      <td>When we got to the climax and it felt like the...</td>\n",
       "    </tr>\n",
       "    <tr>\n",
       "      <th>18</th>\n",
       "      <td>Venom: Let there be Carnage (2021) is a movie ...</td>\n",
       "    </tr>\n",
       "    <tr>\n",
       "      <th>19</th>\n",
       "      <td>5/10 - god awful editing/pacing and such a wea...</td>\n",
       "    </tr>\n",
       "  </tbody>\n",
       "</table>\n",
       "</div>"
      ],
      "text/plain": [
       "                                          user_review\n",
       "0   The story is really engaging. It didn't feel l...\n",
       "1   It is clear right from the beginning that \"No ...\n",
       "2   NO TIME TO DIE (2021) ***1/2 Daniel Craig, Lea...\n",
       "3   The first 20-25 minutes are superb (from the m...\n",
       "4   It felt as though we were never going to get t...\n",
       "5   Director Antoine Fuqua also did his best with ...\n",
       "6   \"The Guilty\" is a remake of a Danish film of t...\n",
       "7   Greetings again from the darkness. Let's start...\n",
       "8   My first thoughts after watching The Guilty is...\n",
       "9   30 minutes in and you realize that you do not ...\n",
       "10  I have been watching gangster movies for over ...\n",
       "11  THE MANY SAINTS OF NEWARK (2021) *** Alessandr...\n",
       "12  The main question that first arises when attem...\n",
       "13  Remember when \"The Sopranos\" took the televisi...\n",
       "14  The film follows the Sopranos starting in the ...\n",
       "15  Eddie Brock gets a chance to interview Cletes ...\n",
       "16  Venom: Let there be Carnage (2021) is a movie ...\n",
       "17  When we got to the climax and it felt like the...\n",
       "18  Venom: Let there be Carnage (2021) is a movie ...\n",
       "19  5/10 - god awful editing/pacing and such a wea..."
      ]
     },
     "execution_count": 13,
     "metadata": {},
     "output_type": "execute_result"
    }
   ],
   "source": [
    "df.head(20)"
   ]
  },
  {
   "cell_type": "code",
   "execution_count": 19,
   "metadata": {},
   "outputs": [],
   "source": [
    "#converting only reviews to CSV\n",
    "df.to_csv('data.txt') "
   ]
  },
  {
   "cell_type": "code",
   "execution_count": null,
   "metadata": {},
   "outputs": [],
   "source": []
  }
 ],
 "metadata": {
  "interpreter": {
   "hash": "23784c1f7cb08f751fc8275aaeeb793366452f178ab646d6f5c554e80b94c083"
  },
  "kernelspec": {
   "display_name": "Python 3.8.5 64-bit ('base': conda)",
   "name": "python3"
  },
  "language_info": {
   "codemirror_mode": {
    "name": "ipython",
    "version": 3
   },
   "file_extension": ".py",
   "mimetype": "text/x-python",
   "name": "python",
   "nbconvert_exporter": "python",
   "pygments_lexer": "ipython3",
   "version": "3.8.5"
  },
  "orig_nbformat": 4
 },
 "nbformat": 4,
 "nbformat_minor": 2
}
