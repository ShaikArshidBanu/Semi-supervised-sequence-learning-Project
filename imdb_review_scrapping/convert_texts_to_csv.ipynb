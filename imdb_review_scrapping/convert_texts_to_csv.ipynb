{
 "cells": [
  {
   "cell_type": "markdown",
   "metadata": {},
   "source": [
    "### Collecting all text files and create a csv\n"
   ]
  },
  {
   "cell_type": "code",
   "execution_count": 96,
   "metadata": {},
   "outputs": [],
   "source": [
    "import os\n",
    "import glob"
   ]
  },
  {
   "cell_type": "code",
   "execution_count": 97,
   "metadata": {},
   "outputs": [
    {
     "name": "stdout",
     "output_type": "stream",
     "text": [
      "                                                    0\n",
      "93  The story is good, especially the final scene....\n",
      "94  The special effects are good, but I didn't get...\n",
      "95  The special effects are good, but I didn't get...\n",
      "96  'In 2257 there is a colony in New World. There...\n",
      "97  'The story: cops who were corrupt get slaughte...\n"
     ]
    }
   ],
   "source": [
    "#'C:/Users/piyak/Github/my-project/Semi-supervised-sequence-learning-Project/imdb_review_scrapping/unsup'\n",
    "#'E:/00.Miscellaneous/~Macquarie University/Session 2/COMP8240 – Applications of Data Science/Research papers/New dataset/IMDB/neg/'\n",
    "directory = ('E:/00.Miscellaneous/~Macquarie University/Session 2/COMP8240 – Applications of Data Science/Research papers/New dataset/IMDB/neg/')\n",
    "os.chdir(directory)\n",
    "#Selcet only .txt in the direcoty\n",
    "extension = 'txt'\n",
    "all_filenames = [i for i in glob.glob('*.{}'.format(extension))]\n",
    "#all_filenames\n",
    "\n",
    "texts=[]\n",
    "for file in all_filenames:\n",
    "    f = open(file,\"r\", encoding=\"utf-8\")\n",
    "    #print(file)\n",
    "    for text in file:\n",
    "        lines=f.read()\n",
    "        lines=lines.replace('[', \"\")\n",
    "        lines=lines.replace(']', \"\")\n",
    "        lines=lines.replace('\"', \"\")\n",
    "        lines=lines.split('\\n')\n",
    "        #print(lines)\n",
    "        for line in lines:\n",
    "            if line != '':\n",
    "                #print(line)\n",
    "                texts.append(lines) \n",
    "#Create df to sotre all texts\n",
    "df = pd.DataFrame(texts) \n",
    "print(df.tail(5))"
   ]
  },
  {
   "cell_type": "code",
   "execution_count": 98,
   "metadata": {},
   "outputs": [],
   "source": [
    "#Converting to csv file\n",
    "df.to_csv('test.csv', index=False) "
   ]
  }
 ],
 "metadata": {
  "interpreter": {
   "hash": "202ae1d9a53d480710569d638e05c8979aaee0e6c92bd2bada56d91af053c3e7"
  },
  "kernelspec": {
   "display_name": "Python 3.8.5 64-bit ('base': conda)",
   "name": "python3"
  },
  "language_info": {
   "codemirror_mode": {
    "name": "ipython",
    "version": 3
   },
   "file_extension": ".py",
   "mimetype": "text/x-python",
   "name": "python",
   "nbconvert_exporter": "python",
   "pygments_lexer": "ipython3",
   "version": "3.8.5"
  },
  "orig_nbformat": 4
 },
 "nbformat": 4,
 "nbformat_minor": 2
}
